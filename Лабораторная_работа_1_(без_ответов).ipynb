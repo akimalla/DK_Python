{
  "nbformat": 4,
  "nbformat_minor": 0,
  "metadata": {
    "colab": {
      "provenance": []
    },
    "kernelspec": {
      "name": "python3",
      "display_name": "Python 3"
    },
    "language_info": {
      "name": "python"
    }
  },
  "cells": [
    {
      "cell_type": "markdown",
      "source": [],
      "metadata": {
        "id": "zGrvkaddb7ow"
      }
    },
    {
      "cell_type": "markdown",
      "source": [],
      "metadata": {
        "id": "NjW0fSb0b7gb"
      }
    },
    {
      "cell_type": "markdown",
      "source": [],
      "metadata": {
        "id": "rWRTI5tKb7c6"
      }
    },
    {
      "cell_type": "markdown",
      "source": [
        "# Лабораторная работа по теме: \"Введение в анализ данных. Операции над векторами и матрицами в NumPy\""
      ],
      "metadata": {
        "id": "vr3PzzdntpPb"
      }
    },
    {
      "cell_type": "code",
      "source": [
        "import numpy as np"
      ],
      "metadata": {
        "id": "RkrkxAzot4xl"
      },
      "execution_count": null,
      "outputs": []
    },
    {
      "cell_type": "markdown",
      "source": [
        "### Задание 1"
      ],
      "metadata": {
        "id": "5QjKGbeztz9i"
      }
    },
    {
      "cell_type": "markdown",
      "source": [
        "Создать 12x12 единичную матрицу (с единицами по диагонали)"
      ],
      "metadata": {
        "id": "itspkMvKuCj4"
      }
    },
    {
      "cell_type": "code",
      "source": [],
      "metadata": {
        "colab": {
          "base_uri": "https://localhost:8080/"
        },
        "id": "An3oWlmft1ne",
        "outputId": "3ca41726-71eb-4ac3-8d2a-a3b3884c6a7a"
      },
      "execution_count": null,
      "outputs": [
        {
          "output_type": "execute_result",
          "data": {
            "text/plain": [
              "array([[1., 0., 0., 0., 0., 0., 0., 0., 0., 0., 0., 0.],\n",
              "       [0., 1., 0., 0., 0., 0., 0., 0., 0., 0., 0., 0.],\n",
              "       [0., 0., 1., 0., 0., 0., 0., 0., 0., 0., 0., 0.],\n",
              "       [0., 0., 0., 1., 0., 0., 0., 0., 0., 0., 0., 0.],\n",
              "       [0., 0., 0., 0., 1., 0., 0., 0., 0., 0., 0., 0.],\n",
              "       [0., 0., 0., 0., 0., 1., 0., 0., 0., 0., 0., 0.],\n",
              "       [0., 0., 0., 0., 0., 0., 1., 0., 0., 0., 0., 0.],\n",
              "       [0., 0., 0., 0., 0., 0., 0., 1., 0., 0., 0., 0.],\n",
              "       [0., 0., 0., 0., 0., 0., 0., 0., 1., 0., 0., 0.],\n",
              "       [0., 0., 0., 0., 0., 0., 0., 0., 0., 1., 0., 0.],\n",
              "       [0., 0., 0., 0., 0., 0., 0., 0., 0., 0., 1., 0.],\n",
              "       [0., 0., 0., 0., 0., 0., 0., 0., 0., 0., 0., 1.]])"
            ]
          },
          "metadata": {},
          "execution_count": 2
        }
      ]
    },
    {
      "cell_type": "markdown",
      "source": [
        "### Задание 2 *"
      ],
      "metadata": {
        "id": "zgtjz7y7uY1H"
      }
    },
    {
      "cell_type": "markdown",
      "source": [
        "Создать 9x9 матрицу и заполнить её в шахматном порядке"
      ],
      "metadata": {
        "id": "S47Cmf05ye5a"
      }
    },
    {
      "cell_type": "code",
      "source": [],
      "metadata": {
        "colab": {
          "base_uri": "https://localhost:8080/"
        },
        "id": "FRZ2AujOyyKe",
        "outputId": "33eae6ff-3bef-4392-851f-4eeff64e8f7b"
      },
      "execution_count": null,
      "outputs": [
        {
          "output_type": "execute_result",
          "data": {
            "text/plain": [
              "array([[0, 1, 0, 1, 0, 1, 0, 1, 0],\n",
              "       [1, 0, 1, 0, 1, 0, 1, 0, 1],\n",
              "       [0, 1, 0, 1, 0, 1, 0, 1, 0],\n",
              "       [1, 0, 1, 0, 1, 0, 1, 0, 1],\n",
              "       [0, 1, 0, 1, 0, 1, 0, 1, 0],\n",
              "       [1, 0, 1, 0, 1, 0, 1, 0, 1],\n",
              "       [0, 1, 0, 1, 0, 1, 0, 1, 0],\n",
              "       [1, 0, 1, 0, 1, 0, 1, 0, 1],\n",
              "       [0, 1, 0, 1, 0, 1, 0, 1, 0]])"
            ]
          },
          "metadata": {},
          "execution_count": 4
        }
      ]
    },
    {
      "cell_type": "markdown",
      "source": [
        "### Задание 3"
      ],
      "metadata": {
        "id": "V910eQBazBw-"
      }
    },
    {
      "cell_type": "markdown",
      "source": [
        "Отсортировать произвольный вектор в порядке возрастания"
      ],
      "metadata": {
        "id": "MrD-Vg_8zTcC"
      }
    },
    {
      "cell_type": "code",
      "source": [
        "np.random.seed(42)\n",
        "vector = np.random.random(10)"
      ],
      "metadata": {
        "colab": {
          "base_uri": "https://localhost:8080/"
        },
        "id": "hobc_yIUzc2Y",
        "outputId": "a61eb6ea-4525-4c8d-cd04-fb783b35e086"
      },
      "execution_count": null,
      "outputs": [
        {
          "output_type": "execute_result",
          "data": {
            "text/plain": [
              "array([0.05808361, 0.15599452, 0.15601864, 0.37454012, 0.59865848,\n",
              "       0.60111501, 0.70807258, 0.73199394, 0.86617615, 0.95071431])"
            ]
          },
          "metadata": {},
          "execution_count": 8
        }
      ]
    },
    {
      "cell_type": "markdown",
      "source": [
        "### Задание 4"
      ],
      "metadata": {
        "id": "CcyFdU0QzpFm"
      }
    },
    {
      "cell_type": "markdown",
      "source": [
        "Определить есть ли в произвольном двумерном массиве из целых чисел строки, в которых все значения равны 4."
      ],
      "metadata": {
        "id": "yjVzk0XMzzX0"
      }
    },
    {
      "cell_type": "code",
      "source": [
        "np.random.seed(42)\n",
        "fourth_array = np.random.randint(3, 5,(8, 3))"
      ],
      "metadata": {
        "colab": {
          "base_uri": "https://localhost:8080/"
        },
        "id": "E6kZxQvT0fp6",
        "outputId": "cce488e9-3920-41d9-ab82-494cf0eb7c18"
      },
      "execution_count": null,
      "outputs": [
        {
          "output_type": "execute_result",
          "data": {
            "text/plain": [
              "False"
            ]
          },
          "metadata": {},
          "execution_count": 14
        }
      ]
    },
    {
      "cell_type": "markdown",
      "source": [
        "### Задание 5"
      ],
      "metadata": {
        "id": "P4jYtxo41foh"
      }
    },
    {
      "cell_type": "markdown",
      "source": [
        "Создайте массив из 6 элементов, 5 из которых равны 0, последний элемент должен быть равен 1"
      ],
      "metadata": {
        "id": "S_rvQzi31tAr"
      }
    },
    {
      "cell_type": "code",
      "source": [],
      "metadata": {
        "colab": {
          "base_uri": "https://localhost:8080/"
        },
        "id": "vZT1HXr52b7R",
        "outputId": "b8f21412-7787-40c5-a5b2-f4b919d79b5c"
      },
      "execution_count": null,
      "outputs": [
        {
          "output_type": "execute_result",
          "data": {
            "text/plain": [
              "array([0., 0., 0., 0., 0., 1.])"
            ]
          },
          "metadata": {},
          "execution_count": 15
        }
      ]
    },
    {
      "cell_type": "markdown",
      "source": [
        "### Задание 6"
      ],
      "metadata": {
        "id": "TL-1Heta2skE"
      }
    },
    {
      "cell_type": "markdown",
      "source": [
        "Укажите индекс 9 элемента в массиве 2х3х2"
      ],
      "metadata": {
        "id": "cqnd5VUV24zl"
      }
    },
    {
      "cell_type": "code",
      "source": [],
      "metadata": {
        "colab": {
          "base_uri": "https://localhost:8080/"
        },
        "id": "wdAMlC8u3S3r",
        "outputId": "e47b881b-987c-47ab-bc15-58a57ea9bd4a"
      },
      "execution_count": null,
      "outputs": [
        {
          "output_type": "execute_result",
          "data": {
            "text/plain": [
              "(1, 1, 1)"
            ]
          },
          "metadata": {},
          "execution_count": 16
        }
      ]
    }
  ]
}